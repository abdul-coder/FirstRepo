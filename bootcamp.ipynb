{
  "nbformat": 4,
  "nbformat_minor": 0,
  "metadata": {
    "colab": {
      "name": "Untitled11.ipynb",
      "private_outputs": true,
      "provenance": []
    },
    "kernelspec": {
      "name": "python3",
      "display_name": "Python 3"
    },
    "language_info": {
      "name": "python"
    }
  },
  "cells": [
    {
      "cell_type": "code",
      "metadata": {
        "id": "Dwn3NdjwOsU8"
      },
      "source": [
        "import pandas as pd\n",
        "import numpy as np"
      ],
      "execution_count": null,
      "outputs": []
    },
    {
      "cell_type": "code",
      "metadata": {
        "id": "xoJwPfhgO0bp"
      },
      "source": [
        "train = pd.read_csv('TRAIN.csv')\n",
        "test = pd.read_csv('TEST.csv')"
      ],
      "execution_count": null,
      "outputs": []
    },
    {
      "cell_type": "code",
      "metadata": {
        "id": "BkyfQ7-_SQK6"
      },
      "source": [
        "train"
      ],
      "execution_count": null,
      "outputs": []
    },
    {
      "cell_type": "code",
      "metadata": {
        "id": "LwPA1WTBRZPN"
      },
      "source": [
        "print(train.shape), print(test.shape)"
      ],
      "execution_count": null,
      "outputs": []
    },
    {
      "cell_type": "code",
      "metadata": {
        "id": "Z7d8oI8qRrQ1"
      },
      "source": [
        "feat_research = pd.DataFrame(train.isna().sum() / train.shape[0], columns=['train_null_share'])\n",
        "feat_research['test_null_share'] = test.isna().sum() / test.shape[0]\n",
        "feat_research['train_dtypes'] = train.dtypes\n",
        "feat_research['train_mean'] = train.mean()\n",
        "feat_research['test_mean'] = test.mean()\n",
        "\n",
        "feat_research"
      ],
      "execution_count": null,
      "outputs": []
    },
    {
      "cell_type": "code",
      "metadata": {
        "id": "dIuAVb02R5cQ"
      },
      "source": [
        "import matplotlib.pyplot as plt"
      ],
      "execution_count": null,
      "outputs": []
    },
    {
      "cell_type": "code",
      "metadata": {
        "id": "6lbX7XDLRzG9"
      },
      "source": [
        "\n",
        "fig, ax = plt.subplots(len(train.columns)-1, 1)\n",
        "fig.set_figheight(25)\n",
        "fig.set_figwidth(15)\n",
        "\n",
        "\n",
        "for i in range(1, len(test.columns)):\n",
        "    feat = train.columns[i]\n",
        "    ax[i-1].hist(train[feat], label=feat+'_train', alpha=0.5, color='blue')\n",
        "    ax[i-1].hist(test[feat], label=feat+'_test', alpha=0.5, color='red')\n",
        "    ax[i-1].legend()\n",
        "\n",
        "plt.show()"
      ],
      "execution_count": null,
      "outputs": []
    },
    {
      "cell_type": "code",
      "metadata": {
        "id": "wUBA1rVZR8Z5"
      },
      "source": [
        "import seaborn as sns\n",
        "sns.heatmap(train.corr())\n",
        "plt.title('train_corr')\n",
        "plt.show()"
      ],
      "execution_count": null,
      "outputs": []
    },
    {
      "cell_type": "code",
      "metadata": {
        "id": "lPoaeAtmSHLp"
      },
      "source": [
        "# test correlation matrix \n",
        "\n",
        "sns.heatmap(test.corr())\n",
        "plt.title('test_corr')\n",
        "plt.show()"
      ],
      "execution_count": null,
      "outputs": []
    },
    {
      "cell_type": "code",
      "metadata": {
        "id": "gN_ZGW-LSL8i"
      },
      "source": [
        "# drop *doctor* (correlated with *stress*, but less corrlatd with target) \n",
        "train = train.drop(columns=['id'])\n",
        "test = test.drop(columns=['id'])"
      ],
      "execution_count": null,
      "outputs": []
    },
    {
      "cell_type": "code",
      "metadata": {
        "id": "8vgIPkxASeVB"
      },
      "source": [
        "# fix nulls \n",
        "\n",
        "# pernicious_1 & pernicious_2 correelate with *sex* a little \n",
        "# so fill nulls with regard to it: \n",
        "# 1 for *sex* == 2 and 0, otherwise \n",
        "pernicious_1_nan_male = np.where((np.isnan(test['pernicious_1']) & (test['sex']==2)), \n",
        "                               1, \n",
        "                               test['pernicious_1'])\n",
        "test['pernicious_1'] = pernicious_1_nan_male\n",
        "test['pernicious_1'] = test['pernicious_1'].fillna(0)\n",
        "\n",
        "pernicious_2_nan_male = np.where((np.isnan(test['pernicious_2']) & (test['sex']==2)), \n",
        "                               1, \n",
        "                               test['pernicious_2'])\n",
        "test['pernicious_2'] = pernicious_2_nan_male\n",
        "test['pernicious_2'] = test['pernicious_2'].fillna(0)\n",
        "\n",
        "# fill in *sport* with median\n",
        "test['sport'] = test['sport'].median()"
      ],
      "execution_count": null,
      "outputs": []
    },
    {
      "cell_type": "code",
      "metadata": {
        "id": "7Qn65Sj8StuU"
      },
      "source": [
        "# one-hot-encoding categorical features\n",
        "\n",
        "stress_train_ohe = pd.get_dummies(train['stress'], prefix='stress').drop(columns='stress_3')\n",
        "stress_test_ohe = pd.get_dummies(test['stress'], prefix='stress').drop(columns='stress_3')\n",
        "\n",
        "train = train.drop(columns='stress')\n",
        "test = test.drop(columns='stress')\n",
        "\n",
        "train = train.join(stress_train_ohe)\n",
        "test = test.join(stress_test_ohe)"
      ],
      "execution_count": null,
      "outputs": []
    },
    {
      "cell_type": "code",
      "metadata": {
        "id": "Qr7DHbVPTIr0"
      },
      "source": [
        "# *sex*: 1/2 -> 0/1\n",
        "\n",
        "train['sex'] -= 1"
      ],
      "execution_count": null,
      "outputs": []
    },
    {
      "cell_type": "code",
      "metadata": {
        "id": "SjFtYoBZTSxc"
      },
      "source": [
        "from sklearn.model_selection import train_test_split"
      ],
      "execution_count": null,
      "outputs": []
    },
    {
      "cell_type": "code",
      "metadata": {
        "id": "3yOKkOevfuZy"
      },
      "source": [
        "# train-test split \n",
        "\n",
        "X_train, X_val, y_train, y_val = train_test_split(train.drop(columns='insomnia'), \n",
        "                                                  train['insomnia'], \n",
        "                                                  test_size=0.3, \n",
        "                                                  random_state=13)"
      ],
      "execution_count": null,
      "outputs": []
    },
    {
      "cell_type": "code",
      "metadata": {
        "id": "DxvnWLlofxHy"
      },
      "source": [
        "# create pipeline for logistic regression \n",
        "\n",
        "from sklearn.svm import SVC\n",
        "from sklearn.linear_model import LogisticRegression\n",
        "from sklearn.preprocessing import StandardScaler\n",
        "from sklearn.pipeline import Pipeline\n",
        "from sklearn.metrics import log_loss\n",
        "\n",
        "\n",
        "pipe = Pipeline([('scaler', StandardScaler()), \n",
        "                 ('lr', LogisticRegression(random_state=13))])\n",
        "\n",
        "pipe.fit(X_train, y_train)\n",
        "log_loss(y_val, pipe.predict_proba(X_val))"
      ],
      "execution_count": null,
      "outputs": []
    },
    {
      "cell_type": "code",
      "metadata": {
        "id": "eycDRGNUf3bG"
      },
      "source": [
        "# create pipeline for catboost classifier\n",
        "\n",
        "from catboost import CatBoostClassifier\n",
        "from sklearn.preprocessing import PolynomialFeatures\n",
        "\n",
        "\n",
        "pipe = Pipeline([('poly', PolynomialFeatures(2)), \n",
        "                  ('scaler', StandardScaler()), \n",
        "                 ('cbr', CatBoostClassifier(silent=True, random_seed=13))])\n",
        "\n",
        "pipe.fit(X_train, y_train)\n",
        "log_loss(y_val, pipe.predict_proba(X_val))"
      ],
      "execution_count": null,
      "outputs": []
    },
    {
      "cell_type": "code",
      "metadata": {
        "id": "Cwikz_PSgTAS"
      },
      "source": [
        "# catboostclassifier gridsearchcv \n",
        "\n",
        "from sklearn.model_selection import GridSearchCV\n",
        "from sklearn.model_selection import KFold\n",
        "\n",
        "\n",
        "pipe = Pipeline([('poly', PolynomialFeatures(1)), \n",
        "                  ('scaler', StandardScaler()), \n",
        "                  ('cbr', CatBoostClassifier(silent=True, random_seed=13, loss_function='Logloss'))])\n",
        "\n",
        "cbr_par = {'cbr__iterations': [20, 50, 100, 250], \n",
        "          'cbr__depth': [3, 5, 7]}\n",
        "cbr = CatBoostClassifier(silent=True)\n",
        "cbr_gscv = GridSearchCV(pipe, cbr_par)\n",
        "cbr_gscv.fit(X_train, y_train)\n",
        "cbr_best = cbr_gscv.best_estimator_\n",
        "\n",
        "print('best params: {}'.format(cbr_gscv.best_params_))\n",
        "print('logloss on best model: {}'.format(log_loss(y_val, cbr_best.predict_proba(X_val))))"
      ],
      "execution_count": null,
      "outputs": []
    },
    {
      "cell_type": "code",
      "metadata": {
        "id": "rDU9AoPMgWYN"
      },
      "source": [
        "# feature importances for best model \n",
        "\n",
        "print(X_train.columns) \n",
        "cbr_best.steps[2][1].feature_importances_"
      ],
      "execution_count": null,
      "outputs": []
    },
    {
      "cell_type": "code",
      "metadata": {
        "id": "btt4smXoh1ZQ"
      },
      "source": [
        "test_pred = cbr_best.predict_proba(test)[:, 1]\n",
        "\n",
        "plt.hist(test_pred)\n",
        "plt.title('test pred distribution')\n",
        "plt.show()"
      ],
      "execution_count": null,
      "outputs": []
    },
    {
      "cell_type": "code",
      "metadata": {
        "id": "KjdPw864h5ju"
      },
      "source": [
        "test_submission = pd.DataFrame(sample_submission['id'])\n",
        "test_submission['insomnia'] = test_pred\n",
        "test_submission.head()"
      ],
      "execution_count": null,
      "outputs": []
    },
    {
      "cell_type": "code",
      "metadata": {
        "id": "v3nBF_ayh-hR"
      },
      "source": [
        "test_submission.to_csv('test_submission.csv', index=False)"
      ],
      "execution_count": null,
      "outputs": []
    }
  ]
}